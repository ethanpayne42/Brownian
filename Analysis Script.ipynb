{
 "cells": [
  {
   "cell_type": "code",
   "execution_count": 261,
   "metadata": {},
   "outputs": [],
   "source": [
    "%matplotlib inline\n",
    "\n",
    "from scipy import stats\n",
    "from decimal import Decimal\n",
    "import statsmodels.formula.api as sm\n",
    "from scipy.interpolate import interp1d\n",
    "\n",
    "import numpy as np\n",
    "import matplotlib.pyplot as plt\n",
    "from scipy.optimize import curve_fit"
   ]
  },
  {
   "cell_type": "code",
   "execution_count": 262,
   "metadata": {},
   "outputs": [],
   "source": [
    "import matplotlib as mpl\n",
    "import matplotlib.cm as cm\n",
    "import matplotlib.mlab as mlab\n",
    "import matplotlib.pyplot as plt\n",
    "from mpl_toolkits.mplot3d import axes3d\n",
    "from matplotlib import gridspec\n",
    "\n",
    "\n",
    "params = {\n",
    "   'axes.labelsize': 18,\n",
    "   'font.size': 24,\n",
    "   'legend.fontsize': 18,\n",
    "   'xtick.labelsize': 18,\n",
    "   'ytick.labelsize': 18,\n",
    "   'axes.titlesize':18,\n",
    "   'text.usetex': True,\n",
    "   'figure.figsize': [8, 6],\n",
    "   'font.family':'serif',\n",
    "   'font.serif':'Computer Modern Roman' \n",
    "   }\n",
    "mpl.rcParams.update(params)\n",
    "mpl.rcParams['text.latex.preamble'] = [r'\\usepackage{amsmath}\\usepackage{bm}']"
   ]
  },
  {
   "cell_type": "code",
   "execution_count": 263,
   "metadata": {},
   "outputs": [
    {
     "data": {
      "text/plain": [
       "[<matplotlib.lines.Line2D at 0x7fa31d1d6e80>]"
      ]
     },
     "execution_count": 263,
     "metadata": {},
     "output_type": "execute_result"
    },
    {
     "data": {
      "image/png": "[encoded data removed]",
      "text/plain": [
       "<matplotlib.figure.Figure at 0x7fa31d42bd30>"
      ]
     },
     "metadata": {},
     "output_type": "display_data"
    }
   ],
   "source": [
    "path_data_ori = np.genfromtxt('extracted_data.txt',delimiter=',')\n",
    "path_initial = [path_data_ori[0,:],]*len(path_data_ori[:,0])\n",
    "path_data_centered = path_data_ori - path_initial\n",
    "\n",
    "particle_num = 36\n",
    "xpos = 2*particle_num \n",
    "ypos = 2*particle_num+1\n",
    "\n",
    "plt.plot(path_data_centered[:,xpos],path_data_centered[:,ypos])"
   ]
  },
  {
   "cell_type": "code",
   "execution_count": 307,
   "metadata": {},
   "outputs": [],
   "source": [
    "max_2 = 100\n",
    "max_grad = 4\n",
    "cutoff = 1\n",
    "\n",
    "def dist_array(data):\n",
    "    \n",
    "    index = 0\n",
    "    \n",
    "    return_array = []\n",
    "    \n",
    "    for part in range(0,int(len(data[0,:])/2)):\n",
    "        xpos = 2*part\n",
    "        ypos = 2*part+1\n",
    "        \n",
    "        x,y = path_data_centered[:,xpos],path_data_centered[:,ypos]\n",
    "                \n",
    "        dist_2_array = x**2+y**2\n",
    "        \n",
    "        xs = x[cutoff:]\n",
    "        ys = y[cutoff:]\n",
    "        \n",
    "        if max(dist_2_array) < max_2 and max(np.gradient(np.sqrt(dist_2_array))) < max_grad and len(np.where(abs(xs) == 0.0)[0]) == 0 and len(np.where(ys == 0.0)[0]) == 0:\n",
    "            return_array.append(dist_2_array)\n",
    "        \n",
    "        index += 1\n",
    "\n",
    "    return return_array\n",
    "        \n",
    "     \n",
    "r2_array = dist_array(path_data_centered)\n",
    "expect_r2_array = np.nanmean(r2_array,axis=0)\n",
    "time_array = np.linspace(0,100./10.15,101)"
   ]
  },
  {
   "cell_type": "code",
   "execution_count": 308,
   "metadata": {},
   "outputs": [],
   "source": [
    "def num_array(data):\n",
    "    \n",
    "    return_array = []\n",
    "    \n",
    "    for entry in data:\n",
    "        values = entry[~np.isnan(entry)]\n",
    "        return_array.append(int(len(values)/2))\n",
    "        \n",
    "    return return_array\n",
    "\n",
    "number_array = np.array(num_array(path_data_centered))"
   ]
  },
  {
   "cell_type": "code",
   "execution_count": 309,
   "metadata": {},
   "outputs": [],
   "source": [
    "import pandas as pd\n",
    "# Conducting weighted linear least squares fit\n",
    "# put x and y into a pandas DataFrame, and the weights into a Series\n",
    "ws = pd.DataFrame({\n",
    "    'x': time_array,\n",
    "    'y': expect_r2_array\n",
    "})\n",
    "\n",
    "wls_fit = sm.wls('y ~ x -1', data=ws,weights = np.sqrt(number_array)).fit()"
   ]
  },
  {
   "cell_type": "code",
   "execution_count": 310,
   "metadata": {},
   "outputs": [
    {
     "data": {
      "text/html": [
       "<table class=\"simpletable\">\n",
       "<caption>WLS Regression Results</caption>\n",
       "<tr>\n",
       "  <th>Dep. Variable:</th>            <td>y</td>        <th>  R-squared:         </th> <td>   0.996</td> \n",
       "</tr>\n",
       "<tr>\n",
       "  <th>Model:</th>                   <td>WLS</td>       <th>  Adj. R-squared:    </th> <td>   0.996</td> \n",
       "</tr>\n",
       "<tr>\n",
       "  <th>Method:</th>             <td>Least Squares</td>  <th>  F-statistic:       </th> <td>2.267e+04</td>\n",
       "</tr>\n",
       "<tr>\n",
       "  <th>Date:</th>             <td>Sat, 17 Mar 2018</td> <th>  Prob (F-statistic):</th> <td>1.09e-119</td>\n",
       "</tr>\n",
       "<tr>\n",
       "  <th>Time:</th>                 <td>20:10:11</td>     <th>  Log-Likelihood:    </th> <td> -99.517</td> \n",
       "</tr>\n",
       "<tr>\n",
       "  <th>No. Observations:</th>      <td>   101</td>      <th>  AIC:               </th> <td>   201.0</td> \n",
       "</tr>\n",
       "<tr>\n",
       "  <th>Df Residuals:</th>          <td>   100</td>      <th>  BIC:               </th> <td>   203.6</td> \n",
       "</tr>\n",
       "<tr>\n",
       "  <th>Df Model:</th>              <td>     1</td>      <th>                     </th>     <td> </td>    \n",
       "</tr>\n",
       "<tr>\n",
       "  <th>Covariance Type:</th>      <td>nonrobust</td>    <th>                     </th>     <td> </td>    \n",
       "</tr>\n",
       "</table>\n",
       "<table class=\"simpletable\">\n",
       "<tr>\n",
       "  <td></td>     <th>coef</th>     <th>std err</th>      <th>t</th>      <th>P>|t|</th>  <th>[0.025</th>    <th>0.975]</th>  \n",
       "</tr>\n",
       "<tr>\n",
       "  <th>x</th> <td>    1.7288</td> <td>    0.011</td> <td>  150.550</td> <td> 0.000</td> <td>    1.706</td> <td>    1.752</td>\n",
       "</tr>\n",
       "</table>\n",
       "<table class=\"simpletable\">\n",
       "<tr>\n",
       "  <th>Omnibus:</th>       <td>23.156</td> <th>  Durbin-Watson:     </th> <td>   0.631</td>\n",
       "</tr>\n",
       "<tr>\n",
       "  <th>Prob(Omnibus):</th> <td> 0.000</td> <th>  Jarque-Bera (JB):  </th> <td>  40.195</td>\n",
       "</tr>\n",
       "<tr>\n",
       "  <th>Skew:</th>          <td> 0.956</td> <th>  Prob(JB):          </th> <td>1.87e-09</td>\n",
       "</tr>\n",
       "<tr>\n",
       "  <th>Kurtosis:</th>      <td> 5.427</td> <th>  Cond. No.          </th> <td>    1.00</td>\n",
       "</tr>\n",
       "</table>"
      ],
      "text/plain": [
       "<class 'statsmodels.iolib.summary.Summary'>\n",
       "\"\"\"\n",
       "                            WLS Regression Results                            \n",
       "==============================================================================\n",
       "Dep. Variable:                      y   R-squared:                       0.996\n",
       "Model:                            WLS   Adj. R-squared:                  0.996\n",
       "Method:                 Least Squares   F-statistic:                 2.267e+04\n",
       "Date:                Sat, 17 Mar 2018   Prob (F-statistic):          1.09e-119\n",
       "Time:                        20:10:11   Log-Likelihood:                -99.517\n",
       "No. Observations:                 101   AIC:                             201.0\n",
       "Df Residuals:                     100   BIC:                             203.6\n",
       "Df Model:                           1                                         \n",
       "Covariance Type:            nonrobust                                         \n",
       "==============================================================================\n",
       "                 coef    std err          t      P>|t|      [0.025      0.975]\n",
       "------------------------------------------------------------------------------\n",
       "x              1.7288      0.011    150.550      0.000       1.706       1.752\n",
       "==============================================================================\n",
       "Omnibus:                       23.156   Durbin-Watson:                   0.631\n",
       "Prob(Omnibus):                  0.000   Jarque-Bera (JB):               40.195\n",
       "Skew:                           0.956   Prob(JB):                     1.87e-09\n",
       "Kurtosis:                       5.427   Cond. No.                         1.00\n",
       "==============================================================================\n",
       "\n",
       "Warnings:\n",
       "[1] Standard Errors assume that the covariance matrix of the errors is correctly specified.\n",
       "\"\"\""
      ]
     },
     "execution_count": 310,
     "metadata": {},
     "output_type": "execute_result"
    }
   ],
   "source": [
    "wls_fit.summary()"
   ]
  },
  {
   "cell_type": "code",
   "execution_count": 311,
   "metadata": {},
   "outputs": [
    {
     "name": "stdout",
     "output_type": "stream",
     "text": [
      "Self Diffusion, DM: 4.32E-13 +- 3E-15 m^2/s\n"
     ]
    }
   ],
   "source": [
    "slope = wls_fit.params[0]\n",
    "slope_uncer = np.sqrt(wls_fit.cov_params()['x'][0])\n",
    "print('Self Diffusion, DM: %.2E +- %.0E m^2/s'%(Decimal(slope/4*(10**(-6))**2),Decimal(slope_uncer/4*(10**(-6))**2)))"
   ]
  },
  {
   "cell_type": "code",
   "execution_count": 312,
   "metadata": {},
   "outputs": [
    {
     "data": {
      "image/png": "[encoded data removed]",
      "text/plain": [
       "<matplotlib.figure.Figure at 0x7fa31d174d68>"
      ]
     },
     "metadata": {},
     "output_type": "display_data"
    }
   ],
   "source": [
    "fig = plt.figure(figsize=(8, 6)) \n",
    "gs = gridspec.GridSpec(2, 1, height_ratios=[1, 2],hspace=0.0) \n",
    "ax0 = plt.subplot(gs[0])\n",
    "ax0.plot([0,10],[0,0],color='grey')\n",
    "ax0.scatter(time_array,expect_r2_array-slope*time_array,color='b')\n",
    "ax0.set_xlim([0,100/10.15])\n",
    "ax0.set_ylim([-2.3,2.3])\n",
    "ax0.set_xticklabels([])\n",
    "ax0.set_ylabel(r'$\\langle r^2(t)\\rangle-$ fit $(\\mu \\text{m})$')\n",
    "\n",
    "ax1 = plt.subplot(gs[1])\n",
    "cal = ax1.plot(time_array,expect_r2_array,color='b',linewidth=2,label=r'Calculated $\\langle r^2(t)\\rangle$')\n",
    "exp = ax1.plot(time_array,slope*time_array,color='r',linewidth=2,label=r'Fitted $\\langle r^2(t)\\rangle$')\n",
    "ax1.set_ylim(0,slope*time_array[-1]*1.05)\n",
    "ax1.set_xlim([0,100/10.15])\n",
    "\n",
    "ax1.legend(loc='best')\n",
    "\n",
    "ax1.set_ylabel(r'$\\langle r^2(t)\\rangle$ $(\\mu \\text{m})$')\n",
    "ax1.set_xlabel(r'time (s)')\n",
    "\n",
    "plt.tight_layout()\n",
    "\n",
    "plt.savefig('rsquarefit.pdf')"
   ]
  },
  {
   "cell_type": "code",
   "execution_count": 299,
   "metadata": {},
   "outputs": [],
   "source": [
    "max_2 = 100\n",
    "max_grad = 4\n",
    "cutoff = 1\n",
    "\n",
    "def pos_array(data):\n",
    "    \n",
    "    index = 0\n",
    "    \n",
    "    x_array = []\n",
    "    y_array = []\n",
    "    \n",
    "    for part in range(0,int(len(data[0,:])/2)):\n",
    "        xpos = 2*part\n",
    "        ypos = 2*part+1\n",
    "        \n",
    "        x,y = path_data_centered[:,xpos],path_data_centered[:,ypos]\n",
    "                \n",
    "        dist_2_array = x**2+y**2\n",
    "        \n",
    "        xs = x[cutoff:]\n",
    "        ys = y[cutoff:]\n",
    "        \n",
    "        if max(dist_2_array) < max_2 and max(np.gradient(np.sqrt(dist_2_array))) < max_grad and len(np.where(abs(xs) == 0.0)[0]) == 0 and len(np.where(ys == 0.0)[0]) == 0:\n",
    "            x_array.append(x)\n",
    "            y_array.append(y)\n",
    "            index += 1\n",
    "        \n",
    "    return x_array, y_array\n",
    "\n",
    "x_array, y_array = pos_array(path_data_centered)"
   ]
  },
  {
   "cell_type": "code",
   "execution_count": 300,
   "metadata": {},
   "outputs": [],
   "source": [
    "expect_x_array = np.nanmean(x_array,axis=0)\n",
    "expect_y_array = np.nanmean(y_array,axis=0)"
   ]
  },
  {
   "cell_type": "code",
   "execution_count": 301,
   "metadata": {},
   "outputs": [
    {
     "data": {
      "image/png": "[encoded data removed]",
      "text/plain": [
       "<matplotlib.figure.Figure at 0x7fa31da27320>"
      ]
     },
     "metadata": {},
     "output_type": "display_data"
    }
   ],
   "source": [
    "plt.plot(time_array,expect_x_array,color='b',linewidth=2,label=r'$\\langle x \\rangle $')\n",
    "plt.xlim(time_array[0],time_array[-1])\n",
    "\n",
    "plt.plot(time_array,expect_y_array,color='r',linewidth=2,label=r'$\\langle y\\rangle $')\n",
    "plt.xlabel(r'time (s)')\n",
    "plt.ylabel(r'Mean Position, $\\mu$m')\n",
    "plt.legend(loc='best')\n",
    "plt.savefig('positions.pdf')"
   ]
  },
  {
   "cell_type": "code",
   "execution_count": 313,
   "metadata": {},
   "outputs": [
    {
     "name": "stdout",
     "output_type": "stream",
     "text": [
      "The diffusion coefficient (D not DM): 4.40E-01 +- 3E-03\n"
     ]
    }
   ],
   "source": [
    "t = 80*10**(-6)\n",
    "u_t = 5*10**(-6)\n",
    "a = 0.63*10**(-6)\n",
    "u_a = 0.02*10**(-6)\n",
    "delta = slope*(10**(-6))**2\n",
    "u_delta = slope_uncer*(10**(-6))**2\n",
    "\n",
    "D = delta/4*(1-9*a/(4*t))**(-1)\n",
    "\n",
    "#u_D calculation\n",
    "a_comp = u_a*(-9)/(4*t)*(1-(9*a)/(4*t))**(-2)*delta/4\n",
    "t_comp = u_t*(-9*a)/(4*t**2)*(1-(9*a)/(4*t))**(-2)*delta/4\n",
    "delta_comp = u_delta*(1-(9*a)/(4*t))**(-1)/4\n",
    "\n",
    "u_D = (a_comp**2+t_comp**2+delta_comp**2)**(1/2)\n",
    "\n",
    "print('The diffusion coefficient (D not DM): %.2E +- %.0E'%(Decimal(D*(10**6)**2),Decimal(u_D*(10**6)**2)))"
   ]
  },
  {
   "cell_type": "code",
   "execution_count": 303,
   "metadata": {},
   "outputs": [],
   "source": [
    "T_array = np.array([10,15,20,25,30]) + 273.15\n",
    "eta_array = np.array([1308,1139,1003,891,798])*10**(-6)\n",
    "\n",
    "T = 20+273\n",
    "u_T = 1"
   ]
  },
  {
   "cell_type": "code",
   "execution_count": 304,
   "metadata": {},
   "outputs": [
    {
     "name": "stdout",
     "output_type": "stream",
     "text": [
      "Viscocity: 1.01E-03 +- 1E-05    m^2/s\n"
     ]
    }
   ],
   "source": [
    "eta_func = interp1d(T_array,eta_array)\n",
    "\n",
    "eta = float(eta_func(T))\n",
    "u_eta = 15*10**(-6)#eta - float(eta_func(T+u_T))\n",
    "print('Viscocity: %0.2E +- %.0E    m^2/s' % (Decimal(eta),Decimal(u_eta)))"
   ]
  },
  {
   "cell_type": "code",
   "execution_count": 305,
   "metadata": {},
   "outputs": [
    {
     "name": "stdout",
     "output_type": "stream",
     "text": [
      "Boltzmann's constant: 1.68E-23 +- 6E-25     m^2 kg /s^2 K\n"
     ]
    }
   ],
   "source": [
    "kb = 6*np.pi*eta*a/T*D\n",
    "\n",
    "# u_kb calculation\n",
    "T_comp = u_T*6*np.pi*eta*a*D/(T**2)\n",
    "eta_comp = u_eta*6*np.pi*a*D/T\n",
    "a_comp = u_a*6*np.pi*eta*D/T\n",
    "D_comp = u_D*6*np.pi*eta*a/T\n",
    "\n",
    "u_kb = np.sqrt(T_comp**2+eta_comp**2+a_comp**2+D_comp**2)\n",
    "\n",
    "print('Boltzmann\\'s constant: %.2E +- %.0E     m^2 kg /s^2 K'%(Decimal(kb), Decimal(u_kb)))"
   ]
  },
  {
   "cell_type": "code",
   "execution_count": 306,
   "metadata": {},
   "outputs": [
    {
     "name": "stdout",
     "output_type": "stream",
     "text": [
      "Avogrado's number: 4.94E+23 +- 1.77E+22    atoms/mole\n"
     ]
    }
   ],
   "source": [
    "R = 8.314\n",
    "\n",
    "Na = R*T/(6*np.pi*eta*a*D)\n",
    "\n",
    "# u_Na calculation\n",
    "T_comp = u_T*R/(6*np.pi*eta*D*a)\n",
    "eta_comp = u_eta*R*T/(6*np.pi*eta**(2)*D*a)\n",
    "a_comp = u_a*R*T/(6*np.pi*eta*D*a**(2))\n",
    "D_comp = u_D*R*T/(6*np.pi*eta*D**(2)*a)\n",
    "\n",
    "u_Na = np.sqrt(T_comp**2+eta_comp**2+a_comp**2+D_comp**2)\n",
    "\n",
    "print('Avogrado\\'s number: %.2E +- %.2E    atoms/mole'%(Decimal(Na),Decimal(u_Na)))"
   ]
  },
  {
   "cell_type": "code",
   "execution_count": 188,
   "metadata": {},
   "outputs": [],
   "source": [
    "cutoff = 1\n",
    "\n",
    "def prob_array(data, times):\n",
    "    \n",
    "    x_array = []\n",
    "    y_array = []\n",
    "    \n",
    "    if type(times) != float:\n",
    "        times= times[cutoff:]\n",
    "    \n",
    "    for part in range(0,int(len(data[0,:])/2)):\n",
    "        xpos = 2*part\n",
    "        ypos = 2*part+1\n",
    "        \n",
    "        x,y = path_data_centered[:,xpos],path_data_centered[:,ypos]\n",
    "        \n",
    "        x = x[cutoff:]\n",
    "        y = y[cutoff:]\n",
    "        \n",
    "        dist_2_array = x**2+y**2\n",
    "        \n",
    "        xs = x*1./np.sqrt(times)\n",
    "        ys = y*1./np.sqrt(times)\n",
    "        \n",
    "        #if max(dist_2_array) < max_2 and max(np.gradient(np.sqrt(dist_2_array))) < max_grad:\n",
    "        x_array.extend(xs)\n",
    "        y_array.extend(ys)\n",
    "\n",
    "    return x_array, y_array\n",
    "\n",
    "x_list, y_list = prob_array(path_data_centered,time_array)\n",
    "x_list = np.array(x_list)\n",
    "y_list = np.array(y_list)"
   ]
  },
  {
   "cell_type": "code",
   "execution_count": 189,
   "metadata": {},
   "outputs": [],
   "source": [
    "x_list = x_list[~np.isnan(x_list)]\n",
    "y_list = y_list[~np.isnan(y_list)]"
   ]
  },
  {
   "cell_type": "code",
   "execution_count": 190,
   "metadata": {},
   "outputs": [
    {
     "data": {
      "image/png": "[encoded data removed]",
      "text/plain": [
       "<matplotlib.figure.Figure at 0x7fa31d0b37b8>"
      ]
     },
     "metadata": {},
     "output_type": "display_data"
    }
   ],
   "source": [
    "nb = 30\n",
    "\n",
    "fig = plt.figure(figsize=(8, 6)) \n",
    "gs = gridspec.GridSpec(1, 2, height_ratios=[1],wspace=0.0) \n",
    "ax0 = plt.subplot(gs[0])\n",
    "ax0.hist(x_list,bins=np.linspace(-5,5,nb),normed=True,color='k',histtype='step',linewidth=2)\n",
    "ax0.set_ylim(0,0.9)\n",
    "ax0.set_xlabel(r'$x$ position / time$^{1/2}$')\n",
    "\n",
    "ax1 = plt.subplot(gs[1])\n",
    "ax1.hist(y_list,bins=np.linspace(-5,5,nb),normed=True,color='k',histtype='step',linewidth=2)\n",
    "ax0.set_ylabel(r'Probability Density')\n",
    "ax1.set_yticklabels([])\n",
    "ax1.set_ylim(0,0.9)\n",
    "ax1.set_xlabel(r'$y$ position / time$^{1/2}$')\n",
    "ax1.yaxis.set_major_locator(plt.NullLocator())\n",
    "\n",
    "plt.tight_layout()"
   ]
  },
  {
   "cell_type": "markdown",
   "metadata": {},
   "source": [
    "### Definitions of Gaussian Fitting Functions"
   ]
  },
  {
   "cell_type": "code",
   "execution_count": 323,
   "metadata": {},
   "outputs": [],
   "source": [
    "# Create a function which returns a Gaussian (normal) distribution.\n",
    "def double_gauss(x, *p):\n",
    "    a1, mu1, s1, a2, mu2, s2 = p\n",
    "    y = a1*np.exp(-np.power((x - mu1), 2.)/(2. * s1**2.)) + a2*np.exp(-np.power((x - mu2), 2.)/(2. * s2**2.))\n",
    "\n",
    "    return y\n",
    "\n",
    "# Create a function which returns a Gaussian (normal) distribution.\n",
    "def gauss(x, *p):\n",
    "    a, b, c  = p\n",
    "    y = a*np.exp(-np.power((x - b), 2.)/(2. * c**2.))\n",
    "\n",
    "    return y"
   ]
  },
  {
   "cell_type": "markdown",
   "metadata": {},
   "source": [
    "## Ignore middle bins"
   ]
  },
  {
   "cell_type": "code",
   "execution_count": 324,
   "metadata": {},
   "outputs": [
    {
     "data": {
      "image/png": "[encoded data removed]",
      "text/plain": [
       "<matplotlib.figure.Figure at 0x7fa31cfbd080>"
      ]
     },
     "metadata": {},
     "output_type": "display_data"
    }
   ],
   "source": [
    "nb = 100\n",
    "\n",
    "nc,xc,q = (plt.hist(x_list,bins=np.linspace(-8,8,nb),normed=True))\n",
    "xc += 8/nb\n",
    "\n",
    "xc_n = xc[np.where(np.abs(xc) >0.5)][1:]\n",
    "nc_n = nc[np.where(np.abs(xc[1:]) >0.5)]\n",
    "\n",
    "p_initial = [0.25,0,3]\n",
    "\n",
    "popt, pcov = curve_fit(gauss, xc_n,nc_n, p0=p_initial)\n",
    "perr = np.sqrt(np.diag(pcov))\n",
    "\n",
    "# Generate y-data based on the fit.\n",
    "y_fit = gauss(xc, *popt)\n",
    "plt.plot(xc,y_fit)\n",
    "plt.xlim(-4,4)\n",
    "plt.show()"
   ]
  },
  {
   "cell_type": "code",
   "execution_count": 327,
   "metadata": {},
   "outputs": [
    {
     "name": "stdout",
     "output_type": "stream",
     "text": [
      "Self Diffusion, DM: 3.54E-13 +- 8E-15 m^2/s\n",
      "The diffusion coefficient (D not DM): 3.61E-01 +- 8E-03\n",
      "Boltzmann's constant: 1.47E-23 +- 6E-25     m^2 kg /s^2 K\n",
      "Avogrado's number: 5.65E+23 +- 2.36E+22    atoms/mole\n"
     ]
    }
   ],
   "source": [
    "DM = popt[-1]**2/2*(10**(-6))**2\n",
    "u_DM = perr[-1]*popt[-1]*(10**(-6))**2\n",
    "print('Self Diffusion, DM: %.2E +- %.0E m^2/s'%(Decimal(DM),Decimal(u_DM)))\n",
    "\n",
    "#u_D calculation\n",
    "a_comp = u_a*(-9)/(4*t)*(1-(9*a)/(4*t))**(-2)*DM\n",
    "t_comp = u_t*(-9*a)/(4*t**2)*(1-(9*a)/(4*t))**(-2)*DM\n",
    "DM_comp = u_DM*(1-(9*a)/(4*t))**(-1)\n",
    "\n",
    "u_D = (a_comp**2+t_comp**2+DM_comp**2)**(1/2)\n",
    "\n",
    "D = DM*(1-9*a/(4*t))**(-1)\n",
    "\n",
    "print('The diffusion coefficient (D not DM): %.2E +- %.0E'%(Decimal(D*(10**6)**2),Decimal(u_D*(10**6)**2)))\n",
    "\n",
    "kb = 6*np.pi*eta*a/T*D\n",
    "\n",
    "# u_kb calculation\n",
    "T_comp = u_T*6*np.pi*eta*a*D/(T**2)\n",
    "eta_comp = u_eta*6*np.pi*a*D/T\n",
    "a_comp = u_a*6*np.pi*eta*D/T\n",
    "D_comp = u_D*6*np.pi*eta*a/T\n",
    "\n",
    "u_kb = np.sqrt(T_comp**2+eta_comp**2+a_comp**2+D_comp**2)\n",
    "\n",
    "print('Boltzmann\\'s constant: %.2E +- %.0E     m^2 kg /s^2 K'%(Decimal(kb), Decimal(u_kb)))\n",
    "\n",
    "R = 8.314\n",
    "\n",
    "Na = R*T/(6*np.pi*eta*a*D)\n",
    "\n",
    "# u_Na calculation\n",
    "T_comp = u_T*R/(6*np.pi*eta*D*a)\n",
    "eta_comp = u_eta*R*T/(6*np.pi*eta**(2)*D*a)\n",
    "a_comp = u_a*R*T/(6*np.pi*eta*D*a**(2))\n",
    "D_comp = u_D*R*T/(6*np.pi*eta*D**(2)*a)\n",
    "\n",
    "u_Na = np.sqrt(T_comp**2+eta_comp**2+a_comp**2+D_comp**2)\n",
    "\n",
    "print('Avogrado\\'s number: %.2E +- %.2E    atoms/mole'%(Decimal(Na),Decimal(u_Na)))"
   ]
  },
  {
   "cell_type": "markdown",
   "metadata": {},
   "source": [
    "## Double Gaussian Fit"
   ]
  },
  {
   "cell_type": "code",
   "execution_count": 329,
   "metadata": {},
   "outputs": [
    {
     "data": {
      "image/png": "[encoded data removed]",
      "text/plain": [
       "<matplotlib.figure.Figure at 0x7fa31c4f9080>"
      ]
     },
     "metadata": {},
     "output_type": "display_data"
    }
   ],
   "source": [
    "nc,xc,q = (plt.hist(x_list,bins=np.linspace(-8,8,nb),normed=True))\n",
    "xc += 8/nb\n",
    "\n",
    "p_initial = [0.25,0,1.8,1.5,0,0.1]\n",
    "\n",
    "popt, pcov = curve_fit(double_gauss, xc[:-1],nc, p0=p_initial)\n",
    "perr = np.sqrt(np.diag(pcov))\n",
    "y_fit_d = double_gauss(np.linspace(-10,10,1000), *popt)\n",
    "\n",
    "plt.plot(np.linspace(-10,10,1000),y_fit_d)\n",
    "plt.xlim(-4,4)\n",
    "plt.show()"
   ]
  },
  {
   "cell_type": "code",
   "execution_count": 330,
   "metadata": {},
   "outputs": [
    {
     "data": {
      "text/plain": [
       "Text(0.5,1,'Data with the peak removed')"
      ]
     },
     "execution_count": 330,
     "metadata": {},
     "output_type": "execute_result"
    },
    {
     "data": {
      "image/png": "[encoded data removed]",
      "text/plain": [
       "<matplotlib.figure.Figure at 0x7fa31d0c8e80>"
      ]
     },
     "metadata": {},
     "output_type": "display_data"
    }
   ],
   "source": [
    "y_fit_peak = gauss(xc[:-1], *popt[-3:])\n",
    "y_fit_brown = gauss(xc[:-1], *popt[:3])\n",
    "anti_peak_data = nc - y_fit_peak\n",
    "plt.plot(xc[:-1],anti_peak_data)\n",
    "plt.plot(xc[:-1],y_fit_brown)\n",
    "plt.title(r'Data with the peak removed')"
   ]
  },
  {
   "cell_type": "code",
   "execution_count": 331,
   "metadata": {},
   "outputs": [
    {
     "name": "stdout",
     "output_type": "stream",
     "text": [
      "Self Diffusion, DM: 3.70E-13 +- 1E-15 m^2/s\n",
      "The diffusion coefficient (D not DM): 3.77E-01 +- 1E-03\n",
      "Boltzmann's constant: 1.54E-23 +- 5E-25     m^2 kg /s^2 K\n",
      "Avogrado's number: 5.40E+23 +- 1.91E+22    atoms/mole\n"
     ]
    }
   ],
   "source": [
    "DM = popt[2]**2/2*(10**(-6))**2\n",
    "u_DM = perr[2]*popt[-1]*(10**(-6))**2\n",
    "print('Self Diffusion, DM: %.2E +- %.0E m^2/s'%(Decimal(DM),Decimal(u_DM)))\n",
    "\n",
    "#u_D calculation\n",
    "a_comp = u_a*(-9)/(4*t)*(1-(9*a)/(4*t))**(-2)*DM\n",
    "t_comp = u_t*(-9*a)/(4*t**2)*(1-(9*a)/(4*t))**(-2)*DM\n",
    "DM_comp = u_DM*(1-(9*a)/(4*t))**(-1)\n",
    "\n",
    "u_D = (a_comp**2+t_comp**2+DM_comp**2)**(1/2)\n",
    "\n",
    "D = DM*(1-9*a/(4*t))**(-1)\n",
    "\n",
    "print('The diffusion coefficient (D not DM): %.2E +- %.0E'%(Decimal(D*(10**6)**2),Decimal(u_D*(10**6)**2)))\n",
    "\n",
    "kb = 6*np.pi*eta*a/T*D\n",
    "\n",
    "# u_kb calculation\n",
    "T_comp = u_T*6*np.pi*eta*a*D/(T**2)\n",
    "eta_comp = u_eta*6*np.pi*a*D/T\n",
    "a_comp = u_a*6*np.pi*eta*D/T\n",
    "D_comp = u_D*6*np.pi*eta*a/T\n",
    "\n",
    "u_kb = np.sqrt(T_comp**2+eta_comp**2+a_comp**2+D_comp**2)\n",
    "\n",
    "print('Boltzmann\\'s constant: %.2E +- %.0E     m^2 kg /s^2 K'%(Decimal(kb), Decimal(u_kb)))\n",
    "\n",
    "R = 8.314\n",
    "\n",
    "Na = R*T/(6*np.pi*eta*a*D)\n",
    "\n",
    "# u_Na calculation\n",
    "T_comp = u_T*R/(6*np.pi*eta*D*a)\n",
    "eta_comp = u_eta*R*T/(6*np.pi*eta**(2)*D*a)\n",
    "a_comp = u_a*R*T/(6*np.pi*eta*D*a**(2))\n",
    "D_comp = u_D*R*T/(6*np.pi*eta*D**(2)*a)\n",
    "\n",
    "u_Na = np.sqrt(T_comp**2+eta_comp**2+a_comp**2+D_comp**2)\n",
    "\n",
    "print('Avogrado\\'s number: %.2E +- %.2E    atoms/mole'%(Decimal(Na),Decimal(u_Na)))"
   ]
  },
  {
   "cell_type": "markdown",
   "metadata": {},
   "source": [
    "### Adding Criteria to Remove Data"
   ]
  },
  {
   "cell_type": "code",
   "execution_count": 341,
   "metadata": {},
   "outputs": [],
   "source": [
    "cutoff = 1\n",
    "max_grad = 4\n",
    "\n",
    "def prob_array_extra(data, times):\n",
    "    \n",
    "    x_array = []\n",
    "    y_array = []\n",
    "    \n",
    "    if type(times) != float:\n",
    "        times= times[cutoff:]\n",
    "    \n",
    "    for part in range(0,int(len(data[0,:])/2)):\n",
    "        xpos = 2*part\n",
    "        ypos = 2*part+1\n",
    "        \n",
    "        x,y = path_data_centered[:,xpos],path_data_centered[:,ypos]\n",
    "        \n",
    "        x = x[cutoff:]\n",
    "        y = y[cutoff:]\n",
    "        \n",
    "        dist_2_array = x**2+y**2\n",
    "        \n",
    "        xs = x*1./np.sqrt(times)\n",
    "        ys = y*1./np.sqrt(times)\n",
    "        \n",
    "        #if np.std(dist_2_array) > 0.4 and  not np.isnan(np.std(dist_2_array)):\n",
    "        if max(dist_2_array) < max_2 and max(np.gradient(np.sqrt(dist_2_array))) < max_grad and len(np.where(abs(xs) == 0.0)[0]) == 0 and len(np.where(ys == 0.0)[0]) == 0:\n",
    "            x_array.extend(xs)\n",
    "            y_array.extend(ys)\n",
    "\n",
    "    x_array = np.array(x_array)\n",
    "    y_array = np.array(y_array)\n",
    "    \n",
    "    x_array = x_array[~np.isnan(x_array)]\n",
    "    y_array = y_array[~np.isnan(y_array)]\n",
    "    \n",
    "    return x_array, y_array\n",
    "\n",
    "x_list_ex, y_list_ex = prob_array_extra(path_data_centered,time_array)\n",
    "x_list_ex = np.array(x_list_ex)\n",
    "y_list_ex = np.array(y_list_ex)"
   ]
  },
  {
   "cell_type": "code",
   "execution_count": 342,
   "metadata": {},
   "outputs": [
    {
     "data": {
      "image/png": "[encoded data removed]",
      "text/plain": [
       "<matplotlib.figure.Figure at 0x7fa31d1c47b8>"
      ]
     },
     "metadata": {},
     "output_type": "display_data"
    }
   ],
   "source": [
    "nb = 100\n",
    "\n",
    "nc,xc,q = (plt.hist(x_list_ex,bins=np.linspace(-8,8,nb),normed=True,linewidth=2,\n",
    "                    color='r',histtype='step',label=r'Removed Low Standard Deviation'))\n",
    "xc += 8/nb\n",
    "\n",
    "xc_n = xc[np.where(np.abs(xc) >0.5)][1:]\n",
    "nc_n = nc[np.where(np.abs(xc[1:]) >0.5)]\n",
    "\n",
    "p_initial = [0.25,0,3]\n",
    "\n",
    "popt, pcov = curve_fit(gauss, xc_n,nc_n, p0=p_initial)\n",
    "perr = np.sqrt(np.diag(pcov))\n",
    "\n",
    "# Generate y-data based on the fit.\n",
    "#y_fit = gauss(xc, *popt)\n",
    "#plt.plot(xc,y_fit)\n",
    "plt.xlim(-4,4)\n",
    "plt.show()"
   ]
  },
  {
   "cell_type": "code",
   "execution_count": 343,
   "metadata": {},
   "outputs": [
    {
     "name": "stdout",
     "output_type": "stream",
     "text": [
      "Self Diffusion, DM: 3.64E-13 +- 1E-14 m^2/s\n",
      "The diffusion coefficient (D not DM): 3.70E-01 +- 1E-02\n",
      "Boltzmann's constant: 1.51E-23 +- 7E-25     m^2 kg /s^2 K\n",
      "Avogrado's number: 5.50E+23 +- 2.57E+22    atoms/mole\n"
     ]
    }
   ],
   "source": [
    "DM = popt[-1]**2/2*(10**(-6))**2\n",
    "u_DM = perr[-1]*popt[-1]*(10**(-6))**2\n",
    "print('Self Diffusion, DM: %.2E +- %.0E m^2/s'%(Decimal(DM),Decimal(u_DM)))\n",
    "\n",
    "#u_D calculation\n",
    "a_comp = u_a*(-9)/(4*t)*(1-(9*a)/(4*t))**(-2)*DM\n",
    "t_comp = u_t*(-9*a)/(4*t**2)*(1-(9*a)/(4*t))**(-2)*DM\n",
    "DM_comp = u_DM*(1-(9*a)/(4*t))**(-1)\n",
    "\n",
    "u_D = (a_comp**2+t_comp**2+DM_comp**2)**(1/2)\n",
    "\n",
    "D = DM*(1-9*a/(4*t))**(-1)\n",
    "\n",
    "print('The diffusion coefficient (D not DM): %.2E +- %.0E'%(Decimal(D*(10**6)**2),Decimal(u_D*(10**6)**2)))\n",
    "\n",
    "kb = 6*np.pi*eta*a/T*D\n",
    "\n",
    "# u_kb calculation\n",
    "T_comp = u_T*6*np.pi*eta*a*D/(T**2)\n",
    "eta_comp = u_eta*6*np.pi*a*D/T\n",
    "a_comp = u_a*6*np.pi*eta*D/T\n",
    "D_comp = u_D*6*np.pi*eta*a/T\n",
    "\n",
    "u_kb = np.sqrt(T_comp**2+eta_comp**2+a_comp**2+D_comp**2)\n",
    "\n",
    "print('Boltzmann\\'s constant: %.2E +- %.0E     m^2 kg /s^2 K'%(Decimal(kb), Decimal(u_kb)))\n",
    "\n",
    "R = 8.314\n",
    "\n",
    "Na = R*T/(6*np.pi*eta*a*D)\n",
    "\n",
    "# u_Na calculation\n",
    "T_comp = u_T*R/(6*np.pi*eta*D*a)\n",
    "eta_comp = u_eta*R*T/(6*np.pi*eta**(2)*D*a)\n",
    "a_comp = u_a*R*T/(6*np.pi*eta*D*a**(2))\n",
    "D_comp = u_D*R*T/(6*np.pi*eta*D**(2)*a)\n",
    "\n",
    "u_Na = np.sqrt(T_comp**2+eta_comp**2+a_comp**2+D_comp**2)\n",
    "\n",
    "print('Avogrado\\'s number: %.2E +- %.2E    atoms/mole'%(Decimal(Na),Decimal(u_Na)))"
   ]
  },
  {
   "cell_type": "code",
   "execution_count": 259,
   "metadata": {},
   "outputs": [],
   "source": [
    "cutoff = 1\n",
    "\n",
    "def prob_array_extra(data, times):\n",
    "    \n",
    "    x_array = []\n",
    "    y_array = []\n",
    "    \n",
    "    if type(times) != float:\n",
    "        times= times[cutoff:]\n",
    "    \n",
    "    for part in range(0,int(len(data[0,:])/2)):\n",
    "        xpos = 2*part\n",
    "        ypos = 2*part+1\n",
    "        \n",
    "        x,y = path_data_centered[:,xpos],path_data_centered[:,ypos]\n",
    "        \n",
    "        x = x[cutoff:]\n",
    "        y = y[cutoff:]\n",
    "        \n",
    "        dist_2_array = x**2+y**2\n",
    "        \n",
    "        xs = x*1./np.sqrt(times)\n",
    "        ys = y*1./np.sqrt(times)\n",
    "        #if len(np.where(abs(xs) == 0.0)[0]) == 0 and len(np.where(ys == 0.0)[0]) == 0:\n",
    "        if max(dist_2_array) < max_2 and max(np.gradient(np.sqrt(dist_2_array))) < max_grad and len(np.where(abs(xs) == 0.0)[0]) == 0 and len(np.where(ys == 0.0)[0]) == 0:\n",
    "            x_array.extend(xs)\n",
    "            y_array.extend(ys)\n",
    "\n",
    "    x_array = np.array(x_array)\n",
    "    y_array = np.array(y_array)\n",
    "    \n",
    "    x_array = x_array[~np.isnan(x_array)]\n",
    "    y_array = y_array[~np.isnan(y_array)]\n",
    "    \n",
    "    return x_array, y_array\n",
    "\n",
    "x_list_g, y_list_g = prob_array_extra(path_data_centered,time_array)\n",
    "x_list_g = np.array(x_list_g)\n",
    "y_list_g = np.array(y_list_g)"
   ]
  },
  {
   "cell_type": "code",
   "execution_count": 260,
   "metadata": {},
   "outputs": [
    {
     "data": {
      "text/plain": [
       "(array([2.000e+00, 0.000e+00, 2.000e+00, 1.000e+00, 1.000e+00, 3.000e+00,\n",
       "        1.000e+00, 6.000e+00, 2.700e+01, 7.100e+01, 1.850e+02, 2.880e+02,\n",
       "        4.600e+02, 6.960e+02, 8.280e+02, 9.980e+02, 1.087e+03, 1.427e+03,\n",
       "        1.687e+03, 1.733e+03, 1.519e+03, 1.569e+03, 1.117e+03, 7.710e+02,\n",
       "        3.840e+02, 2.280e+02, 2.010e+02, 1.550e+02, 8.700e+01, 3.300e+01,\n",
       "        2.600e+01, 2.500e+01, 1.000e+01, 2.000e+00, 0.000e+00, 1.000e+00,\n",
       "        0.000e+00, 0.000e+00, 0.000e+00, 0.000e+00, 0.000e+00, 0.000e+00,\n",
       "        0.000e+00, 0.000e+00, 0.000e+00, 0.000e+00, 0.000e+00, 0.000e+00,\n",
       "        0.000e+00, 0.000e+00, 0.000e+00, 0.000e+00, 0.000e+00, 0.000e+00,\n",
       "        0.000e+00, 0.000e+00, 0.000e+00, 0.000e+00, 0.000e+00, 0.000e+00,\n",
       "        0.000e+00, 0.000e+00, 0.000e+00, 0.000e+00, 0.000e+00, 0.000e+00,\n",
       "        0.000e+00, 0.000e+00, 0.000e+00, 0.000e+00, 0.000e+00, 0.000e+00,\n",
       "        0.000e+00, 0.000e+00, 0.000e+00, 0.000e+00, 0.000e+00, 0.000e+00,\n",
       "        0.000e+00, 0.000e+00, 0.000e+00, 0.000e+00, 0.000e+00, 0.000e+00,\n",
       "        0.000e+00, 0.000e+00, 0.000e+00, 0.000e+00, 0.000e+00, 0.000e+00,\n",
       "        0.000e+00, 0.000e+00, 0.000e+00, 0.000e+00, 0.000e+00, 0.000e+00,\n",
       "        0.000e+00, 0.000e+00, 0.000e+00, 1.000e+00]),\n",
       " array([-4.43876418, -4.20018724, -3.9616103 , -3.72303337, -3.48445643,\n",
       "        -3.24587949, -3.00730255, -2.76872561, -2.53014867, -2.29157173,\n",
       "        -2.0529948 , -1.81441786, -1.57584092, -1.33726398, -1.09868704,\n",
       "        -0.8601101 , -0.62153316, -0.38295622, -0.14437929,  0.09419765,\n",
       "         0.33277459,  0.57135153,  0.80992847,  1.04850541,  1.28708235,\n",
       "         1.52565928,  1.76423622,  2.00281316,  2.2413901 ,  2.47996704,\n",
       "         2.71854398,  2.95712092,  3.19569785,  3.43427479,  3.67285173,\n",
       "         3.91142867,  4.15000561,  4.38858255,  4.62715949,  4.86573643,\n",
       "         5.10431336,  5.3428903 ,  5.58146724,  5.82004418,  6.05862112,\n",
       "         6.29719806,  6.535775  ,  6.77435193,  7.01292887,  7.25150581,\n",
       "         7.49008275,  7.72865969,  7.96723663,  8.20581357,  8.4443905 ,\n",
       "         8.68296744,  8.92154438,  9.16012132,  9.39869826,  9.6372752 ,\n",
       "         9.87585214, 10.11442908, 10.35300601, 10.59158295, 10.83015989,\n",
       "        11.06873683, 11.30731377, 11.54589071, 11.78446765, 12.02304458,\n",
       "        12.26162152, 12.50019846, 12.7387754 , 12.97735234, 13.21592928,\n",
       "        13.45450622, 13.69308315, 13.93166009, 14.17023703, 14.40881397,\n",
       "        14.64739091, 14.88596785, 15.12454479, 15.36312173, 15.60169866,\n",
       "        15.8402756 , 16.07885254, 16.31742948, 16.55600642, 16.79458336,\n",
       "        17.0331603 , 17.27173723, 17.51031417, 17.74889111, 17.98746805,\n",
       "        18.22604499, 18.46462193, 18.70319887, 18.9417758 , 19.18035274,\n",
       "        19.41892968]),\n",
       " <a list of 100 Patch objects>)"
      ]
     },
     "execution_count": 260,
     "metadata": {},
     "output_type": "execute_result"
    },
    {
     "data": {
      "image/png": "[encoded data removed]",
      "text/plain": [
       "<matplotlib.figure.Figure at 0x7fa31c534160>"
      ]
     },
     "metadata": {},
     "output_type": "display_data"
    }
   ],
   "source": [
    "plt.hist(x_list_g,bins=100)"
   ]
  },
  {
   "cell_type": "code",
   "execution_count": 35,
   "metadata": {
    "scrolled": false
   },
   "outputs": [
    {
     "ename": "NameError",
     "evalue": "name 'x_list_z' is not defined",
     "output_type": "error",
     "traceback": [
      "\u001b[0;31m---------------------------------------------------------------------------\u001b[0m",
      "\u001b[0;31mNameError\u001b[0m                                 Traceback (most recent call last)",
      "\u001b[0;32m<ipython-input-35-21d3f64e92e2>\u001b[0m in \u001b[0;36m<module>\u001b[0;34m()\u001b[0m\n\u001b[1;32m      9\u001b[0m          color='k',histtype='step',label=r'Original')\n\u001b[1;32m     10\u001b[0m \u001b[0;34m\u001b[0m\u001b[0m\n\u001b[0;32m---> 11\u001b[0;31m nc,xc,q = (ax0.hist(x_list_z,bins=np.linspace(-8,8,nb),normed=True,linewidth=2,\n\u001b[0m\u001b[1;32m     12\u001b[0m                     color='r',histtype='step',label=r' Removed High $\\text{d}x/\\text{d}t$ and $x$'))\n\u001b[1;32m     13\u001b[0m \u001b[0mxc\u001b[0m \u001b[0;34m+=\u001b[0m \u001b[0;36m8\u001b[0m\u001b[0;34m/\u001b[0m\u001b[0mnb\u001b[0m\u001b[0;34m\u001b[0m\u001b[0m\n",
      "\u001b[0;31mNameError\u001b[0m: name 'x_list_z' is not defined"
     ]
    },
    {
     "data": {
      "image/png": "[encoded data removed]",
      "text/plain": [
       "<matplotlib.figure.Figure at 0x7fa3203977b8>"
      ]
     },
     "metadata": {},
     "output_type": "display_data"
    }
   ],
   "source": [
    "nb = 100\n",
    "\n",
    "fig = plt.figure(figsize=(12, 6)) \n",
    "gs = gridspec.GridSpec(1, 2, width_ratios=[1,1],wspace=0.0) \n",
    "\n",
    "ax0 = plt.subplot(gs[0])\n",
    "\n",
    "ax0.hist(x_list,bins=np.linspace(-8,8,nb),normed=True,linewidth=2,\n",
    "         color='k',histtype='step',label=r'Original')\n",
    "\n",
    "nc,xc,q = (ax0.hist(x_list_z,bins=np.linspace(-8,8,nb),normed=True,linewidth=2,\n",
    "                    color='r',histtype='step',label=r' Removed High $\\text{d}x/\\text{d}t$ and $x$'))\n",
    "xc += 8/nb\n",
    "\n",
    "xc_n = xc[np.where(np.abs(xc) >0.5)][1:]\n",
    "nc_n = nc[np.where(np.abs(xc[1:]) >0.5)]\n",
    "\n",
    "p_initial = [0.25,0,3]\n",
    "\n",
    "popt, pcov = curve_fit(gauss, xc_n,nc_n, p0=p_initial)\n",
    "perr = np.sqrt(np.diag(pcov))\n",
    "\n",
    "# Generate y-data based on the fit.\n",
    "#y_fit = gauss(xc, *popt)\n",
    "#plt.plot(xc,y_fit)\n",
    "\n",
    "ax0.hist(x_list_ex,bins=np.linspace(-8,8,nb),normed=True,linewidth=2,\n",
    "         color='b',histtype='step',label=r'Removed low $\\sigma$')\n",
    "\n",
    "ax0.hist(x_list_g,bins=np.linspace(-8,8,nb),normed=True,linewidth=2,\n",
    "         color='g',histtype='step',label=r'Removed Paths with $x=0$')\n",
    "\n",
    "ax1 = plt.subplot(gs[1])\n",
    "\n",
    "ax1.hist(x_list_g,bins=np.linspace(-8,8,nb),normed=True,linewidth=2,\n",
    "         color='g',histtype='step',label=r'Removed Paths with $x=0$')\n",
    "\n",
    "ax1.hist(x_list,bins=np.linspace(-8,8,nb),normed=True,linewidth=2,\n",
    "         color='k',histtype='step',label=r'Original')\n",
    "\n",
    "ax1.set_yticklabels([])\n",
    "ax0.set_xlim(-2.5,2.5)\n",
    "ax1.set_xlim(-2.5,2.5)\n",
    "\n",
    "bb = (fig.subplotpars.left-0.1, fig.subplotpars.top+0.075, \n",
    "      fig.subplotpars.right-fig.subplotpars.left+0.2,10)\n",
    "\n",
    "\n",
    "ax0.legend(bbox_to_anchor=bb, mode=\"expand\", loc=3,\n",
    "               ncol=4, borderaxespad=0., bbox_transform=fig.transFigure)\n",
    "\n",
    "ax0.set_xlabel(r'$x/\\sqrt{t}$')\n",
    "ax1.set_xlabel(r'$x/\\sqrt{t}$')\n",
    "\n",
    "ax0.set_ylabel(r'Probability Density')\n",
    "\n",
    "plt.tight_layout()\n",
    "#plt.savefig('cleanup.pdf',bbox_inches='tight')"
   ]
  },
  {
   "cell_type": "code",
   "execution_count": 189,
   "metadata": {},
   "outputs": [
    {
     "data": {
      "text/plain": [
       "24.23306384433241"
      ]
     },
     "execution_count": 189,
     "metadata": {},
     "output_type": "execute_result"
    }
   ],
   "source": [
    "np.arctan(4.5e-3/(5e-3 - 1.24e-6)/2)*180"
   ]
  },
  {
   "cell_type": "code",
   "execution_count": 195,
   "metadata": {},
   "outputs": [
    {
     "data": {
      "text/plain": [
       "60.951428526387765"
      ]
     },
     "execution_count": 195,
     "metadata": {},
     "output_type": "execute_result"
    }
   ],
   "source": [
    "np.arctan(4.5e-3/((5e-3 - 1.24e-6)/2))*180/np.pi"
   ]
  },
  {
   "cell_type": "code",
   "execution_count": 198,
   "metadata": {},
   "outputs": [
    {
     "data": {
      "text/plain": [
       "0.004500954048379485"
      ]
     },
     "execution_count": 198,
     "metadata": {},
     "output_type": "execute_result"
    }
   ],
   "source": [
    "5.85e-3/2*4.5e-3/((5.85e-3 - 1.24e-6)/2)"
   ]
  },
  {
   "cell_type": "code",
   "execution_count": 208,
   "metadata": {},
   "outputs": [
    {
     "data": {
      "text/plain": [
       "1.7013780000000103e-06"
      ]
     },
     "execution_count": 208,
     "metadata": {},
     "output_type": "execute_result"
    }
   ],
   "source": [
    "(1+3*0.63*10**(-6)/(5e-3))*4.501e-3-4.501e-3"
   ]
  },
  {
   "cell_type": "code",
   "execution_count": null,
   "metadata": {},
   "outputs": [],
   "source": []
  }
 ],
 "metadata": {
  "kernelspec": {
   "display_name": "Python 2",
   "language": "python",
   "name": "python2"
  },
  "language_info": {
   "codemirror_mode": {
    "name": "ipython",
    "version": 3
   },
   "file_extension": ".py",
   "mimetype": "text/x-python",
   "name": "python",
   "nbconvert_exporter": "python",
   "pygments_lexer": "ipython3",
   "version": "3.5.2"
  }
 },
 "nbformat": 4,
 "nbformat_minor": 2
}
